{
 "cells": [
  {
   "cell_type": "code",
   "execution_count": 1,
   "metadata": {},
   "outputs": [
    {
     "name": "stdout",
     "output_type": "stream",
     "text": [
      "c:\\Users\\Cha\\projects\\seoultech\\hybrid-rag\n"
     ]
    },
    {
     "name": "stderr",
     "output_type": "stream",
     "text": [
      "c:\\Users\\Cha\\projects\\seoultech\\hybrid-rag\\.venv\\Lib\\site-packages\\IPython\\core\\magics\\osm.py:417: UserWarning: This is now an optional IPython functionality, setting dhist requires you to install the `pickleshare` library.\n",
      "  self.shell.db['dhist'] = compress_dhist(dhist)[-100:]\n"
     ]
    }
   ],
   "source": [
    "%cd .."
   ]
  },
  {
   "cell_type": "code",
   "execution_count": 2,
   "metadata": {},
   "outputs": [
    {
     "name": "stdout",
     "output_type": "stream",
     "text": [
      "eval_results\\20240912\\203132-vector-ARAGOG.csv\n",
      "context_precision mean: 0.9021\n",
      "faithfulness mean: 0.8935\n",
      "answer_relevancy mean: 0.9013\n",
      "context_recall mean: 0.8603\n",
      "answer_correctness mean: 0.6863\n",
      "answer_similarity mean: 0.9242\n",
      "\n"
     ]
    }
   ],
   "source": [
    "import pandas as pd\n",
    "import glob\n",
    "from lib.utils.utils import print_mean_scores\n",
    "\n",
    "results = glob.glob('eval_results/**/*.csv', recursive=True)\n",
    "\n",
    "for result in results:\n",
    "    df = pd.read_csv(result)\n",
    "    print(result)\n",
    "    print_mean_scores(df)\n",
    "    print()"
   ]
  }
 ],
 "metadata": {
  "kernelspec": {
   "display_name": ".venv",
   "language": "python",
   "name": "python3"
  },
  "language_info": {
   "codemirror_mode": {
    "name": "ipython",
    "version": 3
   },
   "file_extension": ".py",
   "mimetype": "text/x-python",
   "name": "python",
   "nbconvert_exporter": "python",
   "pygments_lexer": "ipython3",
   "version": "3.12.2"
  }
 },
 "nbformat": 4,
 "nbformat_minor": 2
}
