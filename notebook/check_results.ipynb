{
 "cells": [
  {
   "cell_type": "code",
   "execution_count": null,
   "metadata": {},
   "outputs": [],
   "source": [
    "%cd .."
   ]
  },
  {
   "cell_type": "code",
   "execution_count": 1,
   "metadata": {},
   "outputs": [
    {
     "name": "stdout",
     "output_type": "stream",
     "text": [
      "eval_results\\20240911\\220708-hybrid.csv\n",
      "context_precision mean: 0.9792\n",
      "faithfulness mean: 0.9861\n",
      "answer_relevancy mean: 0.9602\n",
      "context_recall mean: 0.9375\n",
      "answer_correctness mean: 0.6157\n",
      "answer_similarity mean: 0.9076\n",
      "\n",
      "eval_results\\20240911\\225351-vector.csv\n",
      "context_precision mean: 0.9236\n",
      "faithfulness mean: 0.9167\n",
      "answer_relevancy mean: 0.8317\n",
      "context_recall mean: 0.8125\n",
      "answer_correctness mean: 0.8532\n",
      "answer_similarity mean: 0.9074\n",
      "\n",
      "eval_results\\20240912\\192334-vector-ARAGOG.csv\n",
      "context_precision mean: 0.9037\n",
      "faithfulness mean: 0.9085\n",
      "answer_relevancy mean: 0.8977\n",
      "context_recall mean: 0.8451\n",
      "answer_correctness mean: 0.7214\n",
      "answer_similarity mean: 0.9255\n",
      "\n"
     ]
    }
   ],
   "source": [
    "import pandas as pd\n",
    "import glob\n",
    "from lib.utils.utils import print_mean_scores\n",
    "\n",
    "results = glob.glob('eval_results/**/*.csv', recursive=True)\n",
    "\n",
    "for result in results:\n",
    "    df = pd.read_csv(result)\n",
    "    print(result)\n",
    "    print_mean_scores(df)\n",
    "    print()"
   ]
  }
 ],
 "metadata": {
  "kernelspec": {
   "display_name": ".venv",
   "language": "python",
   "name": "python3"
  },
  "language_info": {
   "codemirror_mode": {
    "name": "ipython",
    "version": 3
   },
   "file_extension": ".py",
   "mimetype": "text/x-python",
   "name": "python",
   "nbconvert_exporter": "python",
   "pygments_lexer": "ipython3",
   "version": "3.12.2"
  }
 },
 "nbformat": 4,
 "nbformat_minor": 2
}
